{
 "cells": [
  {
   "cell_type": "markdown",
   "id": "bd8728c6-d05c-4de3-98d5-f68a6b66229a",
   "metadata": {},
   "source": [
    "# Simple linear Regression "
   ]
  },
  {
   "cell_type": "code",
   "execution_count": null,
   "id": "37f967e5-7a70-4d44-a6ee-fbe1cc1a5e40",
   "metadata": {},
   "outputs": [],
   "source": [
    "#import packages\n",
    "import pandas as pd\n",
    "import numpy as np\n",
    "import matplotlib.pyplot as plt\n",
    "from scipy import stats\n",
    "import sklearn \n",
    "import seaborn as sns"
   ]
  },
  {
   "cell_type": "code",
   "execution_count": null,
   "id": "265028a9-4bdb-4822-90a9-613300d99f56",
   "metadata": {},
   "outputs": [],
   "source": [
    "#load dataset\n",
    "penguins = sns.load_dataset(\"penguins\")\n",
    "\n",
    "penguins.head()"
   ]
  },
  {
   "cell_type": "markdown",
   "id": "7155aab1-549e-42fd-9721-1b61b519bca5",
   "metadata": {},
   "source": [
    "From the first 5 rows, we can see the the columns names available: \n",
    "There is also some missing data."
   ]
  },
  {
   "cell_type": "markdown",
   "id": "0a6223c0-e1de-48fb-b8e3-9dc58e58edfc",
   "metadata": {},
   "source": [
    "# data cleaning\n"
   ]
  },
  {
   "cell_type": "markdown",
   "id": "84045da9-7882-4d7a-9ab4-c9e2c4fd4ec3",
   "metadata": {},
   "source": [
    "For the purposes of this project, we are focusing our analysis on Adelie and Gentoo penguins,\n",
    "and will be dropping any missing values from the dataset. "
   ]
  },
  {
   "cell_type": "code",
   "execution_count": null,
   "id": "7e29633b-7ee0-4204-8e55-e59732c936ac",
   "metadata": {},
   "outputs": [],
   "source": [
    "#drop missing values\n",
    "penguins.dropna()"
   ]
  },
  {
   "cell_type": "code",
   "execution_count": null,
   "id": "2d4642cb-17ec-4ff7-adb0-1f6ce727ab5b",
   "metadata": {},
   "outputs": [],
   "source": [
    "#keep Adelie and gentoo penguins,drop missing values\n",
    "penguins_sub = penguins[penguins[\"species\"] != \"Chinstrap\"]\n",
    "penguins_final = penguins_sub.dropna()\n",
    "penguins_final.reset_index(inplace = True, drop = True)"
   ]
  },
  {
   "cell_type": "markdown",
   "id": "029cadf0-d44a-4677-be72-d03bdb07fdca",
   "metadata": {},
   "source": [
    "# Exploratoy Data Analysis\n",
    "before constructing any model I perfrom eda on the dataset to know more about the data.\n",
    "we need to check for any linear relatiomship amoung variables inthe dataframe. \n",
    "library: searborn"
   ]
  },
  {
   "cell_type": "code",
   "execution_count": null,
   "id": "a8ede85b-5304-4de5-9fba-3d971ab6e437",
   "metadata": {},
   "outputs": [],
   "source": [
    "sns.pairplot(penguins_final)"
   ]
  },
  {
   "cell_type": "markdown",
   "id": "3709d02f-0f46-41fd-b796-17e91c6aee90",
   "metadata": {},
   "source": [
    "From the scatterplot matrix, we can observe a few linear relationships:\n",
    "   - bill length(mm) and flipper length(mm)\n",
    "   - bill length(mm) and body mass(g)\n",
    "   - flipper length(mm) and body mass (g)"
   ]
  },
  {
   "cell_type": "markdown",
   "id": "9a1b59de-d628-4372-a7a5-1df1235790ed",
   "metadata": {},
   "source": [
    "# Model Construction\n",
    "\n",
    "Based on the above scatterplots, you could probably run a simple linear regression on any of the three relationships identified. For this part of the course,\n",
    "you will focus on the relationship between bill length (mm) and body mass (g)."
   ]
  },
  {
   "cell_type": "code",
   "execution_count": null,
   "id": "fb4bb6df-e1b4-477e-ba45-2117fa414639",
   "metadata": {},
   "outputs": [],
   "source": [
    "# subset data\n",
    "ols_data = penguins_final[[\"bill_length_mm\", \"body_mass_g\"]]\n"
   ]
  },
  {
   "cell_type": "markdown",
   "id": "a166735d-cba9-4bae-bd43-a8ab0a0dbe9d",
   "metadata": {},
   "source": [
    "next, we can construct the linear regressiob formula and save it\n",
    "as a string. Remember that the y or dependent variable \n",
    "before the ~, and the x or independent variables comes after the ~. "
   ]
  },
  {
   "cell_type": "code",
   "execution_count": null,
   "id": "e2ea20c7-058b-4fb5-a691-bc64b7543e52",
   "metadata": {},
   "outputs": [],
   "source": [
    "# Write out formula\n",
    "ols_formula = \"body_mass_g ~ bill_length_mm\"\n"
   ]
  },
  {
   "cell_type": "code",
   "execution_count": null,
   "id": "8b49e35f-012e-4df2-a8c0-1ed744721219",
   "metadata": {},
   "outputs": [],
   "source": [
    "# import the ols fom the statsmodel\n",
    "from statsmodels.formula.api import ols\n"
   ]
  },
  {
   "cell_type": "code",
   "execution_count": null,
   "id": "7e952327-22be-4988-91e5-23bfc1080fd7",
   "metadata": {},
   "outputs": [],
   "source": [
    "#build ols fit the model\n",
    "OLS = ols(formula = ols_formula, data = ols_data)\n",
    "model = OLS.fit()"
   ]
  },
  {
   "cell_type": "markdown",
   "id": "407bb4dd-00d4-4714-91b6-6f768cad3ad6",
   "metadata": {},
   "source": [
    "Lastly, we can call the summary() function on the model object to get the coefficients and more statistics about the model. The output from model.summary() can be used to evaluate the model and interpret the results. Later in this section, we will go over how to read the results of the model output."
   ]
  },
  {
   "cell_type": "code",
   "execution_count": null,
   "id": "42f42fcf-060b-42f7-aa72-b9c6884b5d31",
   "metadata": {},
   "outputs": [],
   "source": [
    "model.summary()"
   ]
  },
  {
   "cell_type": "code",
   "execution_count": null,
   "id": "01942316-1106-4b43-a0bc-3e65f3f65600",
   "metadata": {},
   "outputs": [],
   "source": [
    "#visualize the regression plot\n",
    "sns.regplot(x = \"bill_length_mm\" , y = \"body_mass_g\", data = ols_data)"
   ]
  },
  {
   "cell_type": "markdown",
   "id": "e3605b57-8373-4ae7-86c2-5151b3cbf82c",
   "metadata": {},
   "source": [
    "# Finish checking model assumptions\n",
    "As you learned in previous videos, there are four main model assumptions for simple linear regression, in no particular order:\n",
    "\n",
    "1. Linearity \n",
    "2. Normality\n",
    "3. Independent observations  \n",
    "5. Homoscedasticity.\n",
    "\n",
    "we already checked the linearity assumption by creating the scatterplot matrix. The independent observations assumption is more about data collection. There is no reason to believe that one penguin's body mass or bill length would be related to any other penguin's anatomical measurements. So we can check off assumptions 1 and 3.\n",
    "\n",
    "The normality and homoscedasticity assumptions focus on the distribution of errors. Thus, you can only check these assumptions after you have constructed the model. To check these assumptions, you will check the residuals, as an approximation of the errors.\n",
    "\n",
    "To more easily check the model assumptions and create relevant visualizations, you can first subset the X variable by isolating just the bill_length_mm column. Additionally, we  can save the predicted values from the model using the model.predict(X) function."
   ]
  },
  {
   "cell_type": "code",
   "execution_count": null,
   "id": "5cf42f0b-2d36-47c1-b4d5-e432b688e8c6",
   "metadata": {},
   "outputs": [],
   "source": [
    "# subset X variable\n",
    "X = ols_data[\"bill_length_mm\"]\n",
    "\n",
    "# get prediction from the model\n",
    "fitted_values = model.predict(X)"
   ]
  },
  {
   "cell_type": "code",
   "execution_count": null,
   "id": "92345ca9-4703-45f4-8849-2d96af3cf424",
   "metadata": {},
   "outputs": [],
   "source": [
    "# residual \n",
    "residuals = model.resid"
   ]
  },
  {
   "cell_type": "code",
   "execution_count": null,
   "id": "5a199943-853c-4ca7-b91b-b6e5f005899b",
   "metadata": {},
   "outputs": [],
   "source": [
    "#check normality assumption using the histplot to check normality\n",
    "fig = sns.histplot(residuals)\n",
    "fig.set_xlabel(\"Residual value\")\n",
    "fig.set_title(\"histogram of residuals\")\n",
    "plt.show\n"
   ]
  },
  {
   "cell_type": "markdown",
   "id": "187e2756-c063-4eda-86d3-87a92b9b8f94",
   "metadata": {},
   "source": [
    "Another way to check the normality function is to create a quantile-quantile or Q-Q plot. Recall that if the residuals are normally distributed, you would expect a straight diagonal line going from the bottom left to the upper right of the Q-Q plot. You can create a Q-Q plot by using the qqplot function from the statsmodels.api package.\n",
    "\n",
    "The Q-Q plot shows a similar pattern to the histogram, where the residuals are mostly normally distributed, except at the ends of the distribution."
   ]
  },
  {
   "cell_type": "code",
   "execution_count": null,
   "id": "d52b57ed-3807-4a55-a2aa-14692c11adf1",
   "metadata": {},
   "outputs": [],
   "source": [
    "import statsmodels.api as sm\n",
    "fig = sm.qqplot(model.resid,line = 's')\n",
    "plt.show()"
   ]
  },
  {
   "cell_type": "markdown",
   "id": "3781bd88-12fd-40af-83ab-ea9f9eb94c85",
   "metadata": {},
   "source": [
    "Lastly, we have to check the homoscedasticity assumption. To check the homoscedasticity assumption, you can create a scatterplot of the fitted values and residuals. If the plot resembles a random cloud (i.e., the residuals are scattered randomly), then the assumption is likely met.\n",
    "\n",
    "we can create one scatterplot by using the scatterplot() function from the seaborn package. The first argument is the variable that goes on the x-axis. The second argument is the variable that goes on the y-axis"
   ]
  },
  {
   "cell_type": "code",
   "execution_count": null,
   "id": "8ee6dfb4-2c27-4216-9429-82a1608747c8",
   "metadata": {},
   "outputs": [],
   "source": [
    "# Import matplotlib\n",
    "import matplotlib.pyplot as plt\n",
    "fig = sns.scatterplot(x=fitted_values, y=residuals)\n",
    "\n",
    "# Add reference line at residuals = 0\n",
    "fig.axhline(0)\n",
    "\n",
    "# Set x-axis and y-axis labels\n",
    "fig.set_xlabel(\"Fitted Values\")\n",
    "fig.set_ylabel(\"Residuals\")\n",
    "\n",
    "# Show the plot\n",
    "plt.show()"
   ]
  },
  {
   "cell_type": "code",
   "execution_count": null,
   "id": "48a26246-bb80-4917-9e7f-28c226a2726c",
   "metadata": {},
   "outputs": [],
   "source": []
  }
 ],
 "metadata": {
  "kernelspec": {
   "display_name": "Python 3 (ipykernel)",
   "language": "python",
   "name": "python3"
  },
  "language_info": {
   "codemirror_mode": {
    "name": "ipython",
    "version": 3
   },
   "file_extension": ".py",
   "mimetype": "text/x-python",
   "name": "python",
   "nbconvert_exporter": "python",
   "pygments_lexer": "ipython3",
   "version": "3.12.6"
  }
 },
 "nbformat": 4,
 "nbformat_minor": 5
}
